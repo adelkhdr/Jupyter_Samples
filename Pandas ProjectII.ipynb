{
 "cells": [
  {
   "cell_type": "code",
   "execution_count": 3,
   "metadata": {
    "collapsed": true
   },
   "outputs": [],
   "source": [
    "import pandas as pd"
   ]
  },
  {
   "cell_type": "code",
   "execution_count": 7,
   "metadata": {
    "collapsed": false
   },
   "outputs": [
    {
     "name": "stdout",
     "output_type": "stream",
     "text": [
      "Index([u'Rank', u'Major_code', u'Major', u'Major_category', u'Total',\n",
      "       u'Sample_size', u'Men', u'Women', u'ShareWomen', u'Employed',\n",
      "       u'Full_time', u'Part_time', u'Full_time_year_round', u'Unemployed',\n",
      "       u'Unemployment_rate', u'Median', u'P25th', u'P75th', u'College_jobs',\n",
      "       u'Non_college_jobs', u'Low_wage_jobs'],\n",
      "      dtype='object')\n"
     ]
    }
   ],
   "source": [
    "all_ages = pd.read_csv(\"all-ages.csv\")\n",
    "recent_grads=pd.read_csv(\"recent-grads.csv\")\n",
    "all_ages.head(5)\n",
    "recent_grads.head(2)\n",
    "# All values for Major_category\n",
    "print(recent_grads.columns)"
   ]
  },
  {
   "cell_type": "code",
   "execution_count": 8,
   "metadata": {
    "collapsed": false
   },
   "outputs": [],
   "source": [
    "all_ages_major_categories = dict()\n",
    "recent_grads_major_categories = dict()"
   ]
  },
  {
   "cell_type": "markdown",
   "metadata": {},
   "source": [
    "# First Assingment: \n",
    "In both of these datasets, majors are grouped into categories. There are multiple rows with a common value for Major_category but different values for Major. We would like to know the total number of people in each Major_category for both datasets."
   ]
  },
  {
   "cell_type": "markdown",
   "metadata": {},
   "source": [
    "**1. First Method:**"
   ]
  },
  {
   "cell_type": "code",
   "execution_count": 11,
   "metadata": {
    "collapsed": false
   },
   "outputs": [],
   "source": [
    "#first Method using some loops\n",
    "list_major=list(all_ages['Major_category'].value_counts().index)\n",
    "list_recent=list(recent_grads['Major_category'].value_counts().index)\n",
    "\n",
    "for a in list_major:\n",
    "    eval_list=all_ages['Major_category']==a\n",
    "    all_ages_major_categories[a]=all_ages['Total'][eval_list].sum()\n",
    "\n",
    "for a in list_recent:\n",
    "    eval_list2=recent_grads['Major_category']==a\n",
    "    recent_grads_major_categories[a]=recent_grads['Total'][eval_list2].sum()"
   ]
  },
  {
   "cell_type": "markdown",
   "metadata": {},
   "source": [
    "**2. Second Method**"
   ]
  },
  {
   "cell_type": "code",
   "execution_count": 12,
   "metadata": {
    "collapsed": true
   },
   "outputs": [],
   "source": [
    "#Through defining a function\n",
    "def calculate_major_cat_totals(df):\n",
    "    cats = df['Major_category'].value_counts().index\n",
    "    counts_dictionary = dict()\n",
    "\n",
    "    for c in cats:\n",
    "        major_df = df[df[\"Major_category\"] == c]\n",
    "        total = major_df[\"Total\"].sum(axis=0)\n",
    "        counts_dictionary[c] = total\n",
    "    return counts_dictionary\n",
    "\n",
    "all_ages_major_categories = calculate_major_cat_totals(all_ages)\n",
    "recent_grads_major_categories = calculate_major_cat_totals(recent_grads)"
   ]
  },
  {
   "cell_type": "markdown",
   "metadata": {},
   "source": [
    "# Second Assignment\n",
    "Use the Low_wage_jobs and Total columns to calculate the proportion of recent college graduates that worked low wage jobs.\n",
    "\n",
    "Store the resulting float as low_wage_percent."
   ]
  },
  {
   "cell_type": "code",
   "execution_count": 13,
   "metadata": {
    "collapsed": false
   },
   "outputs": [
    {
     "name": "stdout",
     "output_type": "stream",
     "text": [
      "(667610, 6776015, 0.09852546076122913)\n"
     ]
    }
   ],
   "source": [
    "low_wage_percent = 0.0\n",
    "low_wage=recent_grads[\"Low_wage_jobs\"].sum(axis=0)\n",
    "total=recent_grads[\"Total\"].sum(axis=0)\n",
    "low_wage_percent=float(low_wage)/total\n",
    "print(low_wage,total,low_wage_percent)"
   ]
  },
  {
   "cell_type": "markdown",
   "metadata": {},
   "source": [
    "# Third Assignment\n",
    "Both all_ages and recent_grads datasets have 173 rows, corresponding to the 173 college major codes. This enables us to do some comparisons between the two datasets and perform some initial calculations to see how similar or different the statistics of recent college graduates are from those of the entire population."
   ]
  },
  {
   "cell_type": "code",
   "execution_count": 47,
   "metadata": {
    "collapsed": false
   },
   "outputs": [
    {
     "name": "stdout",
     "output_type": "stream",
     "text": [
      "(140, 32)\n"
     ]
    }
   ],
   "source": [
    "# All majors, common to both DataFrames\n",
    "majors = recent_grads['Major'].value_counts().index\n",
    "\n",
    "recent_grads_lower_unemp_count = 0\n",
    "all_ages_lower_unemp_count = 0\n",
    "def unemployment(df,m):\n",
    "    major_df=df[df['Major']==m]\n",
    "    unemp=major_df['Unemployed'].sum()\n",
    "    total=major_df['Total'].sum()\n",
    "    return (float(unemp)/total)\n",
    "\n",
    "   \n",
    "for a in majors:\n",
    "    if unemployment(recent_grads,a)>unemployment(all_ages,a):\n",
    "        all_ages_lower_unemp_count+=1\n",
    "    elif unemployment(recent_grads,a)<unemployment(all_ages,a):\n",
    "        recent_grads_lower_unemp_count+=1\n",
    "print(all_ages_lower_unemp_count,recent_grads_lower_unemp_count)"
   ]
  },
  {
   "cell_type": "code",
   "execution_count": 45,
   "metadata": {
    "collapsed": false
   },
   "outputs": [],
   "source": [
    "for m in majors:\n",
    "    recent_grads_row =  recent_grads[recent_grads['Major'] == m]\n",
    "    all_ages_row = all_ages[all_ages['Major'] == m]\n",
    "    \n",
    "    recent_grads_unemp_rate = recent_grads_row['Unemployment_rate'].values[0]\n",
    "    #print(recent_grads_row['Unemployment_rate'].value_counts())\n",
    "    all_ages_unemp_rate = all_ages_row['Unemployment_rate'].values[0]\n",
    "    \n",
    "    if recent_grads_unemp_rate < all_ages_unemp_rate:\n",
    "        recent_grads_lower_unemp_count += 1\n",
    "    elif all_ages_unemp_rate < recent_grads_unemp_rate:\n",
    "        all_ages_lower_unemp_count += 1"
   ]
  }
 ],
 "metadata": {
  "kernelspec": {
   "display_name": "Python [Root]",
   "language": "python",
   "name": "Python [Root]"
  },
  "language_info": {
   "codemirror_mode": {
    "name": "ipython",
    "version": 2
   },
   "file_extension": ".py",
   "mimetype": "text/x-python",
   "name": "python",
   "nbconvert_exporter": "python",
   "pygments_lexer": "ipython2",
   "version": "2.7.12"
  }
 },
 "nbformat": 4,
 "nbformat_minor": 0
}
