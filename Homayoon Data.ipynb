{
 "cells": [
  {
   "cell_type": "code",
   "execution_count": 87,
   "metadata": {
    "collapsed": false
   },
   "outputs": [],
   "source": [
    "import pandas as pd\n",
    "import csv\n",
    "import glob\n",
    "path=\"Data-daily-388\"\n",
    "files=glob.glob(path+\"/*.csv\")"
   ]
  },
  {
   "cell_type": "code",
   "execution_count": 80,
   "metadata": {
    "collapsed": true
   },
   "outputs": [],
   "source": []
  },
  {
   "cell_type": "code",
   "execution_count": 105,
   "metadata": {
    "collapsed": false
   },
   "outputs": [],
   "source": [
    "col5=pd.DataFrame()\n",
    "col6=pd.DataFrame()\n",
    "for a,b in enumerate(files):\n",
    "    f=pd.read_csv(b, header=None)\n",
    "    \n",
    "    data = pd.DataFrame({a: f[5]})\n",
    "    col5=pd.concat([col5,data],axis=1)\n",
    "    \n",
    "    data1 = pd.DataFrame({a: f[6]})\n",
    "    col6=pd.concat([col6,data1],axis=1)"
   ]
  },
  {
   "cell_type": "code",
   "execution_count": 106,
   "metadata": {
    "collapsed": true
   },
   "outputs": [],
   "source": [
    "col5.to_csv('SixthCol.csv')\n",
    "col6.to_csv('SeventhCol.csv')"
   ]
  }
 ],
 "metadata": {
  "kernelspec": {
   "display_name": "Python [Root]",
   "language": "python",
   "name": "Python [Root]"
  },
  "language_info": {
   "codemirror_mode": {
    "name": "ipython",
    "version": 2
   },
   "file_extension": ".py",
   "mimetype": "text/x-python",
   "name": "python",
   "nbconvert_exporter": "python",
   "pygments_lexer": "ipython2",
   "version": "2.7.12"
  }
 },
 "nbformat": 4,
 "nbformat_minor": 0
}
