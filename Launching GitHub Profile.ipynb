{
 "cells": [
  {
   "cell_type": "markdown",
   "metadata": {},
   "source": [
    "## 1: Introduction\n",
    "In the last mission, we explored the basics of git version control. In this project, we'll walk you through how to setup git on your own machine and authenticate with Github. Then, you'll be able to keep the changes you make to data science projects locally synced with Github. Finally, when you're ready, you'll be able to publish your code to Github and build your portfolio of projects for others to see.\n",
    "\n",
    "Debugging your installation is outside the scope of this project unfortunately since there can be many potential reasons for the failure. Whenever you encounter an error in any of the installation steps, use Google and StackOverflow to attempt to debug and fix the issue. If you're still having difficulty, post in the Dataquest"
   ]
  },
  {
   "cell_type": "markdown",
   "metadata": {},
   "source": [
    "## 2: Git\n",
    "Thankfully, installing git doesn't have many steps for any operating system.\n",
    "\n",
    "Navigate to the git downloads page and download the appropriate installer for your operating system.\n",
    "Run the installer and step through the installation wizard.\n",
    "Open the command line program (Terminal for Linux and Mac and Command Prompt for Windows) and run git version.\n",
    "As long as the output describes the current git version and doesn't throw an error, then you have git installed!"
   ]
  },
  {
   "cell_type": "markdown",
   "metadata": {},
   "source": [
    "# 3: Configuring Git\n",
    "Let's now configure git with your name and email address. Run the following shell command, but replace \"YOUR NAME\" with your actual name:\n",
    "\n",
    "```css \n",
    "git config --global user.name \"YOUR NAME\"\n",
    "```\n",
    "Then, run the following shell command, but replace \"YOUR EMAIL ADDRESS\" with your actual email address:\n",
    "```css \n",
    "git config --global user.email \"YOUR EMAIL ADDRESS\"\n",
    "```\n"
   ]
  },
  {
   "cell_type": "markdown",
   "metadata": {},
   "source": [
    "# 4: Github\n",
    "Use a web browser to navigate to Github and create an account. There are 3 main steps you'll have to complete:\n",
    "\n",
    "Creating a personal account: select a unique username and password and enter your email.\n",
    "Plan: if you choose the free plan, all of your code (which is organized in repositories) will be public. Select the free plan for now and you can always upgrade to a paid plan, which would allow you to have private repositories.\n",
    "Read the Github Hello World guide: which is available here.\n",
    "Complete the instructions in step 1 of the Hello World guide to create your first repository on Github."
   ]
  },
  {
   "cell_type": "markdown",
   "metadata": {},
   "source": [
    "# 5: Authenticating With Github\n",
    "Now, you need to authenticate your computer with Github so you can push code to your remote repositories on Github. The easiest way t o do this is to clone the repo you created on Github to your local computer. Click the Clone or Download button on the repository page and then click Use HTTPS in the floating window to reveal the clone URL:"
   ]
  },
  {
   "cell_type": "markdown",
   "metadata": {},
   "source": [
    "Then, run **```git clone {url}```** from the command line using the clone URL. You'll be asked to login using your Github username and your password. Finally, your repository will be downloaded to your local computer as a new folder(if there's any files in the repo).\n",
    "\n",
    "To test that you can push changes to your Github repo:\n",
    "\n",
    "* create a branch ```git checkout -b testbranch```,\n",
    "* make a small change (use nano if you want to edit a file from command line),\n",
    "* commit the change **`git commit -am 'test'`**\n",
    "* push the branch to Github  **`git push origin testbranch`**.\n",
    "\n",
    "Whenever you run **`git push`**, **`git pull`**, or other git commands to the remote repository, you'll be asked to login every time. You can use a credential helper to avoid having to type your username and password each time, which you can read more about here."
   ]
  },
  {
   "cell_type": "code",
   "execution_count": null,
   "metadata": {
    "collapsed": true
   },
   "outputs": [],
   "source": []
  },
  {
   "cell_type": "code",
   "execution_count": null,
   "metadata": {
    "collapsed": true
   },
   "outputs": [],
   "source": []
  }
 ],
 "metadata": {
  "kernelspec": {
   "display_name": "Python [Root]",
   "language": "python",
   "name": "Python [Root]"
  },
  "language_info": {
   "codemirror_mode": {
    "name": "ipython",
    "version": 2
   },
   "file_extension": ".py",
   "mimetype": "text/x-python",
   "name": "python",
   "nbconvert_exporter": "python",
   "pygments_lexer": "ipython2",
   "version": "2.7.12"
  }
 },
 "nbformat": 4,
 "nbformat_minor": 0
}
