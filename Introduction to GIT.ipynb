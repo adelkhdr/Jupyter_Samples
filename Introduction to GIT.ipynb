{
 "cells": [
  {
   "cell_type": "markdown",
   "metadata": {},
   "source": [
    "# 1: Version Control Systems\n",
    "\n",
    "When you're working with teams, you'll generally be making changes to the same files. Imagine you're working on a project to make a Python script, and have a folder with the following two files:\n",
    "```css\n",
    "script.py\n",
    "README.md\n",
    "```\n",
    "Imagine that you and a coworker are both working on the project at the same time. You modify script.py like this:\n",
    "\n",
    "```css\n",
    "if __name__ == \"__main__\":\n",
    "    print(\"Welcome to a script!\")\n",
    "    print(\"Here's my amazing contribution to this project!\")\n",
    "```\n",
    "And your coworker does this:\n",
    "```css\n",
    "import math\n",
    "print(10 + 10)\n",
    "if __name__ == \"__main__\":\n",
    "    print(\"Welcome to a script!\")\n",
    "```\n",
    "\n",
    "Imagine you both have the folder on your local machine. To modify files, you make changes, then upload the entire folder to a centralized location, like Dropbox or Google Drive, to enable collaboration. If you didn't have a distributed version control system, whoever changed the file last will overwrite the changes of the other person. This gets extremely frustrating and impossible to manage as you start dealing with larger and larger chunks of code. What if the folder had 100 files, and you modified 10, and your coworker modified 30 at the same time? You don't want to lose your changes every time your coworker uploads his version of the folder. Now, imagine that instead of just you and a coworker, it's a project with 10 or 100 contributors.\n",
    "\n",
    "Companies face this problem every day, which is why distributed version control systems exist. With a distributed version control system, software will \"merge\" changes together intelligently, and enable multiple developers to work on a project at the same time.\n",
    "\n",
    "There are a few distributed version control systems, including Mercurial, and Subversion. However, Git is by far the most popular.\n",
    "\n",
    "Git is a command line tool that we can access by typing **git** in the shell. The first step in using Git is to initialize a folder as a repository. A **repository** tracks multiple versions of the files in the folder, and enables collaboration.\n",
    "\n",
    "You can initialize a repository by typing **git init** inside the folder you want to initialize as a repository.\n"
   ]
  },
  {
   "cell_type": "markdown",
   "metadata": {},
   "source": [
    "# 2: The .Git Folder\n",
    "\n",
    "Initializing a Git repository will create a folder called .git inside the repository folder. There should now be a folder called .git inside our random_numbers folder. Typically, when folders and files are prefixed with a period (.), it means that they are private, and they don't show up by default when you list the files in the folder.\n",
    "\n",
    "Let's verify that it's there with ls -al. As you may recall, the -a flag will show everything in a folder, even if it starts with .."
   ]
  },
  {
   "cell_type": "markdown",
   "metadata": {},
   "source": [
    "# 3: GIT status\n",
    "\n",
    "After we make any changes to a Git repository, we can run **git status** to see which state each file in the repository is in. Any files that don't show up in **git status** are in the committed state.\n",
    "\n",
    "Git will automatically show us which files have been modified since the last commit. If we're ready to commit the modified files, we can add them to the staging area using git add. Typing **git add script.py** will **add script.py** to the staging area, where it will be staged for the next commit."
   ]
  },
  {
   "cell_type": "markdown",
   "metadata": {},
   "source": [
    ">## Updating GIT\n",
    "\n",
    "5: Configuring Git\n",
    "Before we can make our first commit, we need to tell Git who we are so it can store that information along with the commit. This ensures that different team members can tell who made which commit.\n",
    "\n",
    "We can do this by running git config. This only needs to be run once per computer, as Git saves your details.\n",
    "\n",
    "Git needs two pieces of information about you -- your email and your name. You can configure your email with:\n",
    "\n",
    "```css\n",
    "git config --global user.email \"your.email@domain.com\"\n",
    "\n",
    "git config --global user.name \"Your name\"\n",
    "```"
   ]
  },
  {
   "cell_type": "markdown",
   "metadata": {},
   "source": [
    "# 6: Committing\n",
    "\n",
    "Now that we have files that are staged, we can make our first commit. A commit is a way to store a snapshot of the files in the folder at a certain point in time. By building a history of these snapshots, we can easily rewind to an earlier point in time, or merge someone else's changes to files with ours.\n",
    "\n",
    "To make a commit, just use:\n",
    "```css\n",
    "git commit -m \"Commit message here\"\n",
    "```\n",
    "It's customary to make the commit message something informative, so if you do have to rewind or merge code, it's obvious what changes were made when."
   ]
  },
  {
   "cell_type": "markdown",
   "metadata": {},
   "source": [
    "# 7: File Differences\n",
    "\n",
    "Let's modify our files and make another commit to see how the process works. Before files are placed in the staging area, you can use **git diff** to see the line differences between the current versions of files in the folder, and the versions in the last commit. You can scroll up and down with the arrow keys, and exit git diff with the **q** key. If you want to see the differences after files are staged, you can use git **diff --staged**."
   ]
  },
  {
   "cell_type": "markdown",
   "metadata": {},
   "source": [
    "# 8: Making A Second Commit\n",
    "\n",
    "Now that we have a modified file, we can add the changes to the staging area using:\n",
    "```css\n",
    "git add script.py\n",
    "```\n",
    "and then commit them using\n",
    "\n",
    "```css \n",
    "git commit```"
   ]
  },
  {
   "cell_type": "code",
   "execution_count": null,
   "metadata": {
    "collapsed": true
   },
   "outputs": [],
   "source": []
  }
 ],
 "metadata": {
  "kernelspec": {
   "display_name": "Python [Root]",
   "language": "python",
   "name": "Python [Root]"
  },
  "language_info": {
   "codemirror_mode": {
    "name": "ipython",
    "version": 2
   },
   "file_extension": ".py",
   "mimetype": "text/x-python",
   "name": "python",
   "nbconvert_exporter": "python",
   "pygments_lexer": "ipython2",
   "version": "2.7.12"
  }
 },
 "nbformat": 4,
 "nbformat_minor": 0
}
