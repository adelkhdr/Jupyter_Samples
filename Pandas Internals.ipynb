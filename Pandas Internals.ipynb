{
 "cells": [
  {
   "cell_type": "markdown",
   "metadata": {},
   "source": [
    "# 1: Data Structures\n",
    "In this mission and the next, we're going to dive into some of Pandas' internals to better understand how Pandas does things under the hood.\n",
    "\n",
    "The three key data structures in Pandas are:\n",
    "\n",
    "* Series (collection of values)\n",
    "* DataFrame (collection of Series objects)\n",
    "* Panel (collection of DataFrame objects)\n",
    "\n",
    "and we'll be focusing on the Series object in this mission.\n",
    "\n",
    "Series objects use NumPy arrays for fast computation, but build on them by adding valuable features for analyzing data. For example, while NumPy arrays utilize an integer index, Series objects can utilize other index types, like a string index. Series objects also allow for mixed data types and utilize the NaN Python value for handling missing values.\n",
    "\n",
    "A Series object can hold many data types, including:\n",
    "\n",
    "* float - for representing float values\n",
    "* int - for representing integer values\n",
    "* bool - for representing Boolean values\n",
    "* datetime64[ns] - for representing date & time, without time-zone\n",
    "* datetime64[ns, tz] - for representing date & time, with time-zone\n",
    "* timedelta[ns] - for representing differences in dates & times (seconds, minutes, etc.)\n",
    "* category - for representing categorical values\n",
    "* object - for representing String values\n",
    "\n",
    "Before we dive further, let's introduce the dataset we'll be working with. The FiveThirtyEight team recently released a dataset containing the critics scores for all movies that have substantive user and critic reviews from IMDB, Rotten Tomatoes, Metacritic, and Fandango. We'll be working with the file fandango_score_comparison.csv, which you can download from their [Github repo](https://github.com/fivethirtyeight/data/tree/master/fandango). Here are some of the columns in the dataset:\n"
   ]
  },
  {
   "cell_type": "code",
   "execution_count": 3,
   "metadata": {
    "collapsed": false
   },
   "outputs": [
    {
     "data": {
      "text/html": [
       "<div>\n",
       "<table border=\"1\" class=\"dataframe\">\n",
       "  <thead>\n",
       "    <tr style=\"text-align: right;\">\n",
       "      <th></th>\n",
       "      <th>FILM</th>\n",
       "      <th>RottenTomatoes</th>\n",
       "      <th>RottenTomatoes_User</th>\n",
       "      <th>Metacritic</th>\n",
       "      <th>Metacritic_User</th>\n",
       "      <th>IMDB</th>\n",
       "      <th>Fandango_Stars</th>\n",
       "      <th>Fandango_Ratingvalue</th>\n",
       "      <th>RT_norm</th>\n",
       "      <th>RT_user_norm</th>\n",
       "      <th>...</th>\n",
       "      <th>IMDB_norm</th>\n",
       "      <th>RT_norm_round</th>\n",
       "      <th>RT_user_norm_round</th>\n",
       "      <th>Metacritic_norm_round</th>\n",
       "      <th>Metacritic_user_norm_round</th>\n",
       "      <th>IMDB_norm_round</th>\n",
       "      <th>Metacritic_user_vote_count</th>\n",
       "      <th>IMDB_user_vote_count</th>\n",
       "      <th>Fandango_votes</th>\n",
       "      <th>Fandango_Difference</th>\n",
       "    </tr>\n",
       "  </thead>\n",
       "  <tbody>\n",
       "    <tr>\n",
       "      <th>0</th>\n",
       "      <td>Avengers: Age of Ultron (2015)</td>\n",
       "      <td>74</td>\n",
       "      <td>86</td>\n",
       "      <td>66</td>\n",
       "      <td>7.1</td>\n",
       "      <td>7.8</td>\n",
       "      <td>5.0</td>\n",
       "      <td>4.5</td>\n",
       "      <td>3.70</td>\n",
       "      <td>4.3</td>\n",
       "      <td>...</td>\n",
       "      <td>3.90</td>\n",
       "      <td>3.5</td>\n",
       "      <td>4.5</td>\n",
       "      <td>3.5</td>\n",
       "      <td>3.5</td>\n",
       "      <td>4.0</td>\n",
       "      <td>1330</td>\n",
       "      <td>271107</td>\n",
       "      <td>14846</td>\n",
       "      <td>0.5</td>\n",
       "    </tr>\n",
       "    <tr>\n",
       "      <th>1</th>\n",
       "      <td>Cinderella (2015)</td>\n",
       "      <td>85</td>\n",
       "      <td>80</td>\n",
       "      <td>67</td>\n",
       "      <td>7.5</td>\n",
       "      <td>7.1</td>\n",
       "      <td>5.0</td>\n",
       "      <td>4.5</td>\n",
       "      <td>4.25</td>\n",
       "      <td>4.0</td>\n",
       "      <td>...</td>\n",
       "      <td>3.55</td>\n",
       "      <td>4.5</td>\n",
       "      <td>4.0</td>\n",
       "      <td>3.5</td>\n",
       "      <td>4.0</td>\n",
       "      <td>3.5</td>\n",
       "      <td>249</td>\n",
       "      <td>65709</td>\n",
       "      <td>12640</td>\n",
       "      <td>0.5</td>\n",
       "    </tr>\n",
       "    <tr>\n",
       "      <th>2</th>\n",
       "      <td>Ant-Man (2015)</td>\n",
       "      <td>80</td>\n",
       "      <td>90</td>\n",
       "      <td>64</td>\n",
       "      <td>8.1</td>\n",
       "      <td>7.8</td>\n",
       "      <td>5.0</td>\n",
       "      <td>4.5</td>\n",
       "      <td>4.00</td>\n",
       "      <td>4.5</td>\n",
       "      <td>...</td>\n",
       "      <td>3.90</td>\n",
       "      <td>4.0</td>\n",
       "      <td>4.5</td>\n",
       "      <td>3.0</td>\n",
       "      <td>4.0</td>\n",
       "      <td>4.0</td>\n",
       "      <td>627</td>\n",
       "      <td>103660</td>\n",
       "      <td>12055</td>\n",
       "      <td>0.5</td>\n",
       "    </tr>\n",
       "    <tr>\n",
       "      <th>3</th>\n",
       "      <td>Do You Believe? (2015)</td>\n",
       "      <td>18</td>\n",
       "      <td>84</td>\n",
       "      <td>22</td>\n",
       "      <td>4.7</td>\n",
       "      <td>5.4</td>\n",
       "      <td>5.0</td>\n",
       "      <td>4.5</td>\n",
       "      <td>0.90</td>\n",
       "      <td>4.2</td>\n",
       "      <td>...</td>\n",
       "      <td>2.70</td>\n",
       "      <td>1.0</td>\n",
       "      <td>4.0</td>\n",
       "      <td>1.0</td>\n",
       "      <td>2.5</td>\n",
       "      <td>2.5</td>\n",
       "      <td>31</td>\n",
       "      <td>3136</td>\n",
       "      <td>1793</td>\n",
       "      <td>0.5</td>\n",
       "    </tr>\n",
       "    <tr>\n",
       "      <th>4</th>\n",
       "      <td>Hot Tub Time Machine 2 (2015)</td>\n",
       "      <td>14</td>\n",
       "      <td>28</td>\n",
       "      <td>29</td>\n",
       "      <td>3.4</td>\n",
       "      <td>5.1</td>\n",
       "      <td>3.5</td>\n",
       "      <td>3.0</td>\n",
       "      <td>0.70</td>\n",
       "      <td>1.4</td>\n",
       "      <td>...</td>\n",
       "      <td>2.55</td>\n",
       "      <td>0.5</td>\n",
       "      <td>1.5</td>\n",
       "      <td>1.5</td>\n",
       "      <td>1.5</td>\n",
       "      <td>2.5</td>\n",
       "      <td>88</td>\n",
       "      <td>19560</td>\n",
       "      <td>1021</td>\n",
       "      <td>0.5</td>\n",
       "    </tr>\n",
       "  </tbody>\n",
       "</table>\n",
       "<p>5 rows × 22 columns</p>\n",
       "</div>"
      ],
      "text/plain": [
       "                             FILM  RottenTomatoes  RottenTomatoes_User  \\\n",
       "0  Avengers: Age of Ultron (2015)              74                   86   \n",
       "1               Cinderella (2015)              85                   80   \n",
       "2                  Ant-Man (2015)              80                   90   \n",
       "3          Do You Believe? (2015)              18                   84   \n",
       "4   Hot Tub Time Machine 2 (2015)              14                   28   \n",
       "\n",
       "   Metacritic  Metacritic_User  IMDB  Fandango_Stars  Fandango_Ratingvalue  \\\n",
       "0          66              7.1   7.8             5.0                   4.5   \n",
       "1          67              7.5   7.1             5.0                   4.5   \n",
       "2          64              8.1   7.8             5.0                   4.5   \n",
       "3          22              4.7   5.4             5.0                   4.5   \n",
       "4          29              3.4   5.1             3.5                   3.0   \n",
       "\n",
       "   RT_norm  RT_user_norm         ...           IMDB_norm  RT_norm_round  \\\n",
       "0     3.70           4.3         ...                3.90            3.5   \n",
       "1     4.25           4.0         ...                3.55            4.5   \n",
       "2     4.00           4.5         ...                3.90            4.0   \n",
       "3     0.90           4.2         ...                2.70            1.0   \n",
       "4     0.70           1.4         ...                2.55            0.5   \n",
       "\n",
       "   RT_user_norm_round  Metacritic_norm_round  Metacritic_user_norm_round  \\\n",
       "0                 4.5                    3.5                         3.5   \n",
       "1                 4.0                    3.5                         4.0   \n",
       "2                 4.5                    3.0                         4.0   \n",
       "3                 4.0                    1.0                         2.5   \n",
       "4                 1.5                    1.5                         1.5   \n",
       "\n",
       "   IMDB_norm_round  Metacritic_user_vote_count  IMDB_user_vote_count  \\\n",
       "0              4.0                        1330                271107   \n",
       "1              3.5                         249                 65709   \n",
       "2              4.0                         627                103660   \n",
       "3              2.5                          31                  3136   \n",
       "4              2.5                          88                 19560   \n",
       "\n",
       "   Fandango_votes  Fandango_Difference  \n",
       "0           14846                  0.5  \n",
       "1           12640                  0.5  \n",
       "2           12055                  0.5  \n",
       "3            1793                  0.5  \n",
       "4            1021                  0.5  \n",
       "\n",
       "[5 rows x 22 columns]"
      ]
     },
     "execution_count": 3,
     "metadata": {},
     "output_type": "execute_result"
    }
   ],
   "source": [
    "import pandas as pd\n",
    "fandango=pd.read_csv(\"fandango_score_comparison.csv\")\n",
    "fandango.head(5)"
   ]
  },
  {
   "cell_type": "markdown",
   "metadata": {},
   "source": [
    "# 2: Integer Index\n",
    "DataFrames use Series objects to represent the columns in the data. When you select a single column from a DataFrame, Pandas will return the Series object representing that column. Each individual Series object in a DataFrame is indexed using the integer data type by default. Each value in the Series has a unique integer index, or position. The integer index is 0-indexed, like most Python data structures, and ranges from 0 to n-1, where n is the number of rows. With an integer index, you can select an individual value in the Series if you know it's position as well as select multiple values by passing in a list of index values (similar to a NumPy array).\n",
    "\n",
    "For both NumPy arrays and Series objects, you can utilize integer index by using bracket notation to slice and select values. Where Series objects diverge from NumPy arrays, however, is the ability to specify a custom index for the values.\n",
    "\n",
    "To explore this idea further, let's use two Series objects representing the film names and Rotten Tomatoes scores."
   ]
  },
  {
   "cell_type": "code",
   "execution_count": 14,
   "metadata": {
    "collapsed": false
   },
   "outputs": [
    {
     "name": "stdout",
     "output_type": "stream",
     "text": [
      "0    Avengers: Age of Ultron (2015)\n",
      "1                 Cinderella (2015)\n",
      "2                    Ant-Man (2015)\n",
      "3            Do You Believe? (2015)\n",
      "4     Hot Tub Time Machine 2 (2015)\n",
      "Name: FILM, dtype: object\n",
      "0    74\n",
      "1    85\n",
      "2    80\n",
      "3    18\n",
      "4    14\n",
      "Name: RottenTomatoes, dtype: int64\n"
     ]
    }
   ],
   "source": [
    "series_film=fandango[\"FILM\"]\n",
    "print(series_film.head(5))\n",
    "series_rt=fandango[\"RottenTomatoes\"]\n",
    "print(series_rt.head(5))\n",
    "#print(fandango[\"FILM\"][fandango['RottenTomatoes']==100])\n",
    "#print(fandango.loc[70])"
   ]
  },
  {
   "cell_type": "markdown",
   "metadata": {},
   "source": [
    "# 3: Custom Index\n",
    "Both these Series objects use the same integer indices, which means that the value at index 5, for example, would describe the same film in both Series objects (The Water Diviner (2015)). If we had a movie in mind, we need the integer index corresponding to that movie to look up information about it.\n",
    "\n",
    "If we were given just these two Series objects and we wanted to look up the Rotten Tomatoes score for Minions (2015) and Leviathan (2014), we'd have to:\n",
    "\n",
    "* find the integer index corresponding to Minions (2015) in series_film\n",
    "* look up the value at that integer index from series_rt\n",
    "* find the integer index corresponding to Leviathan (2014) in series_film\n",
    "* look up the value at that integer index from series_rt\n",
    "\n",
    "This becomes especially cumbersome as we scale up the problem to looking up information for a larger number of movies. What we really want is a way to look up the Rotten Tomatoes scores for many movies at a time using just one command (and one Series object). To accomplish this, we need to find a way to move away from using an integer index corresponding to the row number and instead use a string index corresponding to the film name. Then we can utilize bracket notation to just pass in a list of strings matching the film names and get back the Rotten Tomatoes scores:\n",
    "\n"
   ]
  },
  {
   "cell_type": "code",
   "execution_count": 22,
   "metadata": {
    "collapsed": false
   },
   "outputs": [
    {
     "data": {
      "text/plain": [
       "Minions (2015)      54\n",
       "Leviathan (2014)    99\n",
       "dtype: int64"
      ]
     },
     "execution_count": 22,
     "metadata": {},
     "output_type": "execute_result"
    }
   ],
   "source": [
    "from pandas import Series\n",
    "film_names = series_film.values\n",
    "rt_scores = series_rt.values\n",
    "series_custom[['Minions (2015)', 'Leviathan (2014)']]"
   ]
  },
  {
   "cell_type": "markdown",
   "metadata": {},
   "source": [
    "# 4: Integer Index Preserved\n",
    "Even though we specified that the Series object uses a custom, string index, the object still maintains an internal integer index that we can use for selection. In this way, Series objects act both like a dictionary and a list since we can access values using our custom index (like the keys in a dictionary) or the integer index (like the index in a list)."
   ]
  },
  {
   "cell_type": "code",
   "execution_count": 25,
   "metadata": {
    "collapsed": false
   },
   "outputs": [
    {
     "data": {
      "text/plain": [
       "The Water Diviner (2015)        63\n",
       "Irrational Man (2015)           42\n",
       "Top Five (2014)                 86\n",
       "Shaun the Sheep Movie (2015)    99\n",
       "Love & Mercy (2015)             89\n",
       "dtype: int64"
      ]
     },
     "execution_count": 25,
     "metadata": {},
     "output_type": "execute_result"
    }
   ],
   "source": [
    "fiveten=series_custom[5:10]\n",
    "fiveten"
   ]
  },
  {
   "cell_type": "markdown",
   "metadata": {},
   "source": [
    "# 5: Reindexing\n",
    "Reindexing is the Pandas way of modifying the alignment between labels (index) and the data (values). The reindex() method allows you to specify an alternate ordering of the labels (index) for a Series object. This method takes in a list of strings corresponding to the order of labels you'd like for that Series object.\n",
    "\n",
    "We can use the reindex() method to sort series_custom in alphabetical order by film. To accomplish this, we need to:\n",
    "\n",
    "* return a list representation of the current index using tolist()\n",
    "* sort the index using sorted()\n",
    "* use reindex() to set the new ordered index\n",
    "\n",
    "The following code cell contains the logic to accomplish the first task and we'll leave it up to you to finish the rest."
   ]
  },
  {
   "cell_type": "code",
   "execution_count": 30,
   "metadata": {
    "collapsed": false
   },
   "outputs": [
    {
     "data": {
      "text/plain": [
       "'71 (2015)                                         97\n",
       "5 Flights Up (2015)                                52\n",
       "A Little Chaos (2015)                              40\n",
       "A Most Violent Year (2014)                         90\n",
       "About Elly (2015)                                  97\n",
       "Aloha (2015)                                       19\n",
       "American Sniper (2015)                             72\n",
       "American Ultra (2015)                              46\n",
       "Amy (2015)                                         97\n",
       "Annie (2014)                                       27\n",
       "Ant-Man (2015)                                     80\n",
       "Avengers: Age of Ultron (2015)                     74\n",
       "Big Eyes (2014)                                    72\n",
       "Birdman (2014)                                     92\n",
       "Black Sea (2015)                                   82\n",
       "Black or White (2015)                              39\n",
       "Blackhat (2015)                                    34\n",
       "Cake (2015)                                        49\n",
       "Chappie (2015)                                     30\n",
       "Child 44 (2015)                                    26\n",
       "Cinderella (2015)                                  85\n",
       "Clouds of Sils Maria (2015)                        89\n",
       "Danny Collins (2015)                               77\n",
       "Dark Places (2015)                                 26\n",
       "Do You Believe? (2015)                             18\n",
       "Dope (2015)                                        87\n",
       "Entourage (2015)                                   32\n",
       "Escobar: Paradise Lost (2015)                      52\n",
       "Ex Machina (2015)                                  92\n",
       "Fantastic Four (2015)                               9\n",
       "                                                   ..\n",
       "The Loft (2015)                                    11\n",
       "The Longest Ride (2015)                            31\n",
       "The Man From U.N.C.L.E. (2015)                     68\n",
       "The Overnight (2015)                               82\n",
       "The Salt of the Earth (2015)                       96\n",
       "The Second Best Exotic Marigold Hotel (2015)       62\n",
       "The SpongeBob Movie: Sponge Out of Water (2015)    78\n",
       "The Stanford Prison Experiment (2015)              84\n",
       "The Vatican Tapes (2015)                           13\n",
       "The Water Diviner (2015)                           63\n",
       "The Wedding Ringer (2015)                          27\n",
       "The Wolfpack (2015)                                84\n",
       "The Woman In Black 2 Angel of Death (2015)         22\n",
       "The Wrecking Crew (2015)                           93\n",
       "Timbuktu (2015)                                    99\n",
       "Tomorrowland (2015)                                50\n",
       "Top Five (2014)                                    86\n",
       "Trainwreck (2015)                                  85\n",
       "True Story (2015)                                  45\n",
       "Two Days, One Night (2014)                         97\n",
       "Unbroken (2014)                                    51\n",
       "Unfinished Business (2015)                         11\n",
       "Unfriended (2015)                                  60\n",
       "Vacation (2015)                                    27\n",
       "Welcome to Me (2015)                               71\n",
       "What We Do in the Shadows (2015)                   96\n",
       "When Marnie Was There (2015)                       89\n",
       "While We're Young (2015)                           83\n",
       "Wild Tales (2014)                                  96\n",
       "Woman in Gold (2015)                               52\n",
       "dtype: int64"
      ]
     },
     "execution_count": 30,
     "metadata": {},
     "output_type": "execute_result"
    }
   ],
   "source": [
    "original_index = series_custom.index.tolist()\n",
    "sorted_index=sorted(original_index)\n",
    "sorted_by_index=series_custom.reindex(sorted_index)\n",
    "sorted_by_index"
   ]
  },
  {
   "cell_type": "markdown",
   "metadata": {},
   "source": [
    "# 6: Sorting\n",
    "We learned how to sort a Series object by the index using the reindex() method in this mission. Sorting by reindexing can be cumbersome if we want to order by the rating (the values in the Series) instead of by film name or for quick exploratory data analysis. To make sorting easier, Pandas comes with a sort_index() method, which returns a Series sorted by the index, and a sort_values() method method, which returns a Series sorted by the values. Since the values representing the Rotten Tomatoes scores are integers, sorting by values will sort in numerically ascending order (low to high) in our case.\n",
    "\n",
    "In both cases, the link between each element's index (film name) and value (score) is preserved. This is known as data alignment and is a key tenet of Pandas that is incredibly important when analyzing data. Unless we specifically change a value or an index, Pandas allows us to assume the linking will be preserved."
   ]
  },
  {
   "cell_type": "code",
   "execution_count": 36,
   "metadata": {
    "collapsed": false
   },
   "outputs": [
    {
     "name": "stdout",
     "output_type": "stream",
     "text": [
      "Woman in Gold (2015)                52\n",
      "Wild Tales (2014)                   96\n",
      "While We're Young (2015)            83\n",
      "When Marnie Was There (2015)        89\n",
      "What We Do in the Shadows (2015)    96\n",
      "Welcome to Me (2015)                71\n",
      "Vacation (2015)                     27\n",
      "Unfriended (2015)                   60\n",
      "Unfinished Business (2015)          11\n",
      "Unbroken (2014)                     51\n",
      "dtype: int64\n",
      "Gett: The Trial of Viviane Amsalem (2015)    100\n",
      "Seymour: An Introduction (2015)              100\n",
      "Selma (2014)                                  99\n",
      "Phoenix (2015)                                99\n",
      "Song of the Sea (2014)                        99\n",
      "Leviathan (2014)                              99\n",
      "Shaun the Sheep Movie (2015)                  99\n",
      "Timbuktu (2015)                               99\n",
      "Mr. Turner (2014)                             98\n",
      "Paddington (2015)                             98\n",
      "dtype: int64\n"
     ]
    }
   ],
   "source": [
    "sc2= series_custom.sort_index(ascending=False)\n",
    "sc3= series_custom.sort_values(ascending=False)\n",
    "print(sc2.head(10))\n",
    "print(sc3.head(10))"
   ]
  },
  {
   "cell_type": "markdown",
   "metadata": {},
   "source": [
    "# 7: Vectorized Operations\n",
    "There are many cases where you want to transform an entire column in a dataset, since a column is really a vector of values. Series objects have powerful support for vectorized operations, which enable you to run computations over an entire column incredibly quickly. Since Pandas builds on top of NumPy, it takes advantage of NumPy's vectorizaton capabilities which generates incredibly optimized, low level C code (C is another programming language) to loop over the values instead. Using a for loop to iterate over the values in a Series object to run item-wise computations is much slower, especially for larger datasets.\n",
    "\n",
    "You can use any of the standard Python arithmetic operators (+, -, *, and /) to transform every value in a Series object. For example, if we wanted to transform the Rotten Tomatoes scores from a 0 to 100 point scale to a 0 to 10 scale, we can use the Python / division operator to divide the Series by 10:\n"
   ]
  },
  {
   "cell_type": "code",
   "execution_count": null,
   "metadata": {
    "collapsed": true
   },
   "outputs": [],
   "source": [
    "series_custom/10"
   ]
  },
  {
   "cell_type": "markdown",
   "metadata": {},
   "source": [
    "and we'll get back a new Series object with each value divided by 10. We can even use NumPy functions to transform and run calculations over Series objects:"
   ]
  },
  {
   "cell_type": "code",
   "execution_count": null,
   "metadata": {
    "collapsed": true
   },
   "outputs": [],
   "source": [
    "# Add each value with each other\n",
    "np.add(series_custom, series_custom)\n",
    "# Apply sine function to each value\n",
    "np.sin(series_custom)\n",
    "# Return the highest value (will return a single value not a Series)\n",
    "np.max(series_custom)"
   ]
  },
  {
   "cell_type": "markdown",
   "metadata": {},
   "source": [
    "The values in a Series object are treated as an ndarray, the core data type in NumPy. Applying some NumPy functions will return a new Series object while others will return just a single value. NumPy's documentation gives you a good sense of the return value for each function. If a particular NumPy function usually returns an ndarray, it will instead return a Series object when applied to a Series.\n",
    "\n",
    "The original DataFrame contains the column RT_norm, which represents a normalized score (from 0 to 5) of the Rotten Tomatoes average critics score. Let's use vectorized operations to normalize series_custom back to the 0-5 scale."
   ]
  },
  {
   "cell_type": "code",
   "execution_count": 49,
   "metadata": {
    "collapsed": false
   },
   "outputs": [],
   "source": [
    "import numpy as np\n",
    "series_normalized=series_custom/20\n",
    "#series_normalized.sort_values(ascending=False)"
   ]
  },
  {
   "cell_type": "markdown",
   "metadata": {},
   "source": [
    "# 8: Comparing And Filtering\n",
    "Pandas utilizes vectorized operations everywhere, including when filtering values within a single Series object or comparing 2 different Series objects. For example, to find all films that had above a 50 Rotten Tomatoes average critics rating, running:\n",
    "\n",
    "\n",
    "\u0001\u0001\n",
    "series_custom > 50\n",
    "will actually return a Series object with a boolean value for each film. This is because the filter (> 50) is applied to each value in the Series object. To retrieve the actual films a Series object containing just the films with a rating greater than 50, we need to pass in this Boolean series into the original Series object.\n",
    "\n",
    "\n",
    "\u0001\u0001\n",
    "series_greater_than_50 = series_custom[series_custom > 50]\n",
    "To help make it easy to separate complex comparison and filtering logic into modular pieces, Pandas returns Boolean Series objects as the intermediate representation of the logic. We can specify filtering criteria in different variables and chain them together using the & operator, which represents and, as well as the | operator, representing or. Finally, we can utilize a Series object's bracket notation to pass in an expression representing a Boolean Series object to get back the filtered dataset."
   ]
  },
  {
   "cell_type": "code",
   "execution_count": 48,
   "metadata": {
    "collapsed": true
   },
   "outputs": [],
   "source": [
    "criteria_one = series_custom > 50\n",
    "criteria_two = series_custom < 75\n",
    "both_criteria=series_custom[criteria_one & criteria_two]"
   ]
  },
  {
   "cell_type": "markdown",
   "metadata": {},
   "source": [
    "# 9: Alignment\n",
    "One of the core tenets of Pandas is data alignment. Series objects align along indices and DataFrame objects align along both indices and columns. This means that for Series objects, the link between the index labels and the actual values is implicitly preserved across operations and transformations unless we explicitly break the link. For DataFrame objects, the values are linked to the index labels and the column labels, and are also preserved unless we explicitly break the link (by reassigning or editing a column or index label, for example).\n",
    "\n",
    "This core tenet allows us to use Pandas effectively when working with data and is a big advantages over just using NumPy objects. For Series objects in particular, this means we can use the standard Python arithmetic operators (+, -, *, and /) to add, subtract, multiple, and divide the values at each index label for 2 different Series objects.\n",
    "\n",
    "We can take advantage of this functionality to calculate the mean of the Rotten Tomatoes' critics average rating and the Rotten Tomatoes' average user rating."
   ]
  },
  {
   "cell_type": "code",
   "execution_count": 60,
   "metadata": {
    "collapsed": false
   },
   "outputs": [
    {
     "data": {
      "text/plain": [
       "pandas.core.series.Series"
      ]
     },
     "execution_count": 60,
     "metadata": {},
     "output_type": "execute_result"
    }
   ],
   "source": [
    "rt_critics = Series(fandango['RottenTomatoes'].values, index=fandango['FILM'])\n",
    "rt_users = Series(fandango['RottenTomatoes_User'].values, index=fandango['FILM'])\n",
    "rt_mean=(rt_critics+rt_users)/2\n",
    "adel_series=fandango[\"RottenTomatoes\"]\n",
    "type(adel_series)"
   ]
  }
 ],
 "metadata": {
  "kernelspec": {
   "display_name": "Python [Root]",
   "language": "python",
   "name": "Python [Root]"
  },
  "language_info": {
   "codemirror_mode": {
    "name": "ipython",
    "version": 2
   },
   "file_extension": ".py",
   "mimetype": "text/x-python",
   "name": "python",
   "nbconvert_exporter": "python",
   "pygments_lexer": "ipython2",
   "version": "2.7.12"
  }
 },
 "nbformat": 4,
 "nbformat_minor": 0
}
