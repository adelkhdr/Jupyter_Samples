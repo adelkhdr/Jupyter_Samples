{
 "cells": [
  {
   "cell_type": "markdown",
   "metadata": {},
   "source": [
    "# Working with the Command Line"
   ]
  },
  {
   "cell_type": "markdown",
   "metadata": {},
   "source": [
    "## 1: Setting Variables\n",
    "\n",
    "n these shell tutorials, we've been interacting with a computer through the command line. In order to interact with it, we type commands in, those commands are executed, and we're shown the results. That interaction is happening within a shell called bash. A shell is a way to access and control a computer. Command line shells have a text interface for typing commands and seeing results, versus graphical shells which allow you to click on icons with a mouse. There are many unix shells, but Bash is one of the most popular. Bash is the default shell on most Linux and OSX computers.\n",
    "\n",
    "Bash is essentially a program that lets us run other programs. To do this, Bash implements a command language. This language specifies how we can type and structure commands that will be executed. A command language is a special kind of programming language through which we can control applications and the system. Just like other programming languages, like Python, we can create scripts, set variables, and more. Because it is a language, bash is far more powerful than a graphical shell.\n",
    "\n",
    "We can set variables by assigning to them. Variables consist entirely of uppercase characters, numbers, and underscores. You can assign any datatype to a variable. Here are some examples:\n",
    "\n",
    "\n",
    "```css\n",
    "OS=linux\n",
    "OPERATING_SYSTEM=\"linux\"\n",
    "```"
   ]
  },
  {
   "cell_type": "markdown",
   "metadata": {},
   "source": [
    "## 2:  Accessing Variables\n",
    "\n",
    "If you want to see the value of a variable named FOOD, you'll need to type echo $FOOD. This will turn into echo \"Shrimp gumbo\", which will print Shrimp gumbo to stdout."
   ]
  },
  {
   "cell_type": "markdown",
   "metadata": {},
   "source": [
    "## 3: Accessing Environment Variables\n",
    "\n",
    "```css\n",
    "import os\n",
    "print(os.environ[\"FOOD\"])\n",
    "```"
   ]
  },
  {
   "cell_type": "markdown",
   "metadata": {},
   "source": [
    "## 4:Command Line Python\n",
    "\n",
    "In order to develop Python programs, we'll need to make files containing Python code. We'll then be able to use the interpreter to run them from the command line. This way, we can save all our commands, but still see what's happening.\n",
    "\n",
    "This is a very common way to develop using Python -- use an IDE or text editor to create Python files, then run them from the command line.\n",
    "\n",
    "In order to make a file that Python can execute on the command line, we'll need to add some lines to a blank file:\n",
    "\n",
    "```css\n",
    "if __name__ == \"__main__\":\n",
    "    print(\"Welcome to a Python script\")\n",
    "```\n",
    "\n",
    "The code above will print Welcome to a Python script when it's run from the command line. To run it, we just need to put those lines into a file, and then call it with python file.py (assuming the file is called file.py).\n",
    "\n",
    "This works because the \\__name\\__ variable in Python scripts is automatically set to the name of the module. If the module is being run from the command line, it will be set to \\__main\\__. Checking this allows us to tell if a script is being run from the command line or not."
   ]
  },
  {
   "cell_type": "markdown",
   "metadata": {},
   "source": [
    "## 5: Installing Packages\n",
    "\n",
    "Packages are an important way to extend the functionality of Python. We've worked with packages like matplotlib and pandas. The best way to install packages is to use the command line, and a program called pip. The newest versions of Python include pip by default, so installing Python will automatically give you access to pip.\n",
    "\n",
    "In order to install a package with pip, we just use pip install. pip install requests will install the requests package, which can be used to interact with websites and APIs."
   ]
  },
  {
   "cell_type": "markdown",
   "metadata": {},
   "source": [
    "## 6: Virtual Environments:\n",
    "\n",
    "In the previous screen, we used the default version of pip, which installed requests for the python executable, which is Python version 2.\n",
    "\n",
    "What if we had instead wanted to install requests for Python 3? This type of version switching can get confusing, and different projects can require different packages and Python versions. A nice way to avoid issues with different package versions are virtual environments. By default, the system has one python executable, and you have to install all packages and libraries globally. This means that every single project on your machine has to use the same version of Python, and the same versions of every package.\n",
    "\n",
    "By default, you can't use different versions of Python without some hacks. One such hack is renaming python to python3 so we can have access to both Python 2 and Python 3.\n",
    "\n",
    "A better solution for this is for each project we write to have its own version of Python, along with its own packages. This way, we don't need to worry that upgrading the version of a package will affect other projects on the system and cause them to stop working.\n",
    "\n",
    "Virtual environments, or virtualenvs, let us do this. You can create a new virtualenv with the virtualenv command. In order to access this, you normally have to install the virtualenv package, but we've already installed it to simplify the process.\n",
    "\n",
    "Typing virtualenv main will create a virtualenv named main. It will create a folder in the current directory called main that will hold all the packages you install into the virtual environment.\n",
    "\n",
    "By default, virtualenv will use the python executable when it makes a new virtualenv, which means that it has the same version of Python as the system. In this case, we want to use python3 instead for our virtualenv. In order to do this, we pass the -p flag to the virtualenv command, which will allow us to change the Python interpreter that virtualenv uses.\n",
    "\n",
    "In this case, we can type **virtualenv -p /usr/bin/python3 python3** to use Python 3 instead of Python 2.\n",
    "\n",
    "```css \n",
    "virtualenv -p /usr/bin/python3 python3 \n",
    "```"
   ]
  },
  {
   "cell_type": "markdown",
   "metadata": {},
   "source": [
    "## 7: Activating A Virtualenv\n",
    "\n",
    "Once a virtualenv is created, you can activate it using **source python3/bin/activate** (this assumes that the virtualenv is called python3, and the folder for the virtualenv is in our current directory).\n",
    "\n",
    "When a virtualenv is activated, the Python version and packages installed in the virtualenv will become the default Python version and packages when you type python.\n",
    "\n",
    "** To deactivate:** \n",
    "```css \n",
    "deactivate \n",
    "```"
   ]
  },
  {
   "cell_type": "markdown",
   "metadata": {},
   "source": [
    "## 8: Checking The Installed Packages\n",
    "You can check the version of Python you're using with **python -V**. You can check which packages are currently installed and their versions with **pip freeze**. If you activate a virtualenv, all the packages, including pip, will be from the virtualenv instead of the main system Python executable."
   ]
  },
  {
   "cell_type": "markdown",
   "metadata": {},
   "source": [
    "## 9: Command Line Arguments\n",
    "\n",
    "You can also pass command line options into Python scripts. They can be retrieved inside the script using the sys package. The argv list allows you to retrieve the positional arguments passed into the script. We learned about positional arguments in the last mission -- they are any arguments that come after the command name. An example is **python script.py 82**. The first positional argument is script.py, and the second is 82.\n",
    "```css\n",
    "import sys\n",
    "\n",
    "if __name__ == \"__main__\":\n",
    "    print(sys.argv[1])\n",
    "```\n"
   ]
  },
  {
   "cell_type": "code",
   "execution_count": null,
   "metadata": {
    "collapsed": true
   },
   "outputs": [],
   "source": []
  }
 ],
 "metadata": {
  "kernelspec": {
   "display_name": "Python [Root]",
   "language": "python",
   "name": "Python [Root]"
  },
  "language_info": {
   "codemirror_mode": {
    "name": "ipython",
    "version": 2
   },
   "file_extension": ".py",
   "mimetype": "text/x-python",
   "name": "python",
   "nbconvert_exporter": "python",
   "pygments_lexer": "ipython2",
   "version": "2.7.12"
  }
 },
 "nbformat": 4,
 "nbformat_minor": 0
}
